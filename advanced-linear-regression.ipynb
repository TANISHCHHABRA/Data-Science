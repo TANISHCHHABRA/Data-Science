{
 "cells": [
  {
   "cell_type": "markdown",
   "id": "89e1eb5d",
   "metadata": {
    "papermill": {
     "duration": 0.018213,
     "end_time": "2022-02-25T15:53:53.711594",
     "exception": false,
     "start_time": "2022-02-25T15:53:53.693381",
     "status": "completed"
    },
    "tags": []
   },
   "source": [
    "**Tanish Chhabra<br>\n",
    "101916038<br>\n",
    "CS10**"
   ]
  },
  {
   "cell_type": "code",
   "execution_count": 1,
   "id": "37324f6a",
   "metadata": {
    "_cell_guid": "b1076dfc-b9ad-4769-8c92-a6c4dae69d19",
    "_uuid": "8f2839f25d086af736a60e9eeb907d3b93b6e0e5",
    "execution": {
     "iopub.execute_input": "2022-02-25T15:53:53.751985Z",
     "iopub.status.busy": "2022-02-25T15:53:53.750515Z",
     "iopub.status.idle": "2022-02-25T15:53:57.542757Z",
     "shell.execute_reply": "2022-02-25T15:53:57.541995Z",
     "shell.execute_reply.started": "2022-02-24T19:15:41.444322Z"
    },
    "papermill": {
     "duration": 3.81289,
     "end_time": "2022-02-25T15:53:57.542906",
     "exception": false,
     "start_time": "2022-02-25T15:53:53.730016",
     "status": "completed"
    },
    "tags": []
   },
   "outputs": [],
   "source": [
    "import cupy as cp\n",
    "import cudf\n",
    "import cuml"
   ]
  },
  {
   "cell_type": "code",
   "execution_count": 2,
   "id": "82246ace",
   "metadata": {
    "execution": {
     "iopub.execute_input": "2022-02-25T15:53:57.581804Z",
     "iopub.status.busy": "2022-02-25T15:53:57.581105Z",
     "iopub.status.idle": "2022-02-25T15:54:01.004461Z",
     "shell.execute_reply": "2022-02-25T15:54:01.003967Z",
     "shell.execute_reply.started": "2022-02-24T19:15:45.533514Z"
    },
    "papermill": {
     "duration": 3.44466,
     "end_time": "2022-02-25T15:54:01.004598",
     "exception": false,
     "start_time": "2022-02-25T15:53:57.559938",
     "status": "completed"
    },
    "tags": []
   },
   "outputs": [],
   "source": [
    "train = cudf.read_csv('../input/house-prices-advanced-regression-techniques/train.csv')\n",
    "test = cudf.read_csv('../input/house-prices-advanced-regression-techniques/test.csv')"
   ]
  },
  {
   "cell_type": "code",
   "execution_count": 3,
   "id": "48e896d6",
   "metadata": {
    "execution": {
     "iopub.execute_input": "2022-02-25T15:54:01.042745Z",
     "iopub.status.busy": "2022-02-25T15:54:01.042066Z",
     "iopub.status.idle": "2022-02-25T15:54:01.045208Z",
     "shell.execute_reply": "2022-02-25T15:54:01.044792Z",
     "shell.execute_reply.started": "2022-02-24T19:15:49.074635Z"
    },
    "papermill": {
     "duration": 0.023646,
     "end_time": "2022-02-25T15:54:01.045325",
     "exception": false,
     "start_time": "2022-02-25T15:54:01.021679",
     "status": "completed"
    },
    "tags": []
   },
   "outputs": [],
   "source": [
    "Y = train['SalePrice']\n",
    "train.drop('SalePrice',axis=1,inplace=True)"
   ]
  },
  {
   "cell_type": "code",
   "execution_count": 4,
   "id": "f2965294",
   "metadata": {
    "execution": {
     "iopub.execute_input": "2022-02-25T15:54:01.085021Z",
     "iopub.status.busy": "2022-02-25T15:54:01.084401Z",
     "iopub.status.idle": "2022-02-25T15:54:01.087552Z",
     "shell.execute_reply": "2022-02-25T15:54:01.087939Z",
     "shell.execute_reply.started": "2022-02-24T19:15:49.085251Z"
    },
    "papermill": {
     "duration": 0.026174,
     "end_time": "2022-02-25T15:54:01.088054",
     "exception": false,
     "start_time": "2022-02-25T15:54:01.061880",
     "status": "completed"
    },
    "tags": []
   },
   "outputs": [
    {
     "data": {
      "text/plain": [
       "((1460, 80), (1459, 80))"
      ]
     },
     "execution_count": 4,
     "metadata": {},
     "output_type": "execute_result"
    }
   ],
   "source": [
    "n_train,n_test = train.shape[0],test.shape[0]\n",
    "train.shape,test.shape"
   ]
  },
  {
   "cell_type": "code",
   "execution_count": 5,
   "id": "0b496257",
   "metadata": {
    "execution": {
     "iopub.execute_input": "2022-02-25T15:54:01.135044Z",
     "iopub.status.busy": "2022-02-25T15:54:01.131031Z",
     "iopub.status.idle": "2022-02-25T15:54:01.166504Z",
     "shell.execute_reply": "2022-02-25T15:54:01.166027Z",
     "shell.execute_reply.started": "2022-02-24T19:15:49.096895Z"
    },
    "papermill": {
     "duration": 0.061502,
     "end_time": "2022-02-25T15:54:01.166608",
     "exception": false,
     "start_time": "2022-02-25T15:54:01.105106",
     "status": "completed"
    },
    "tags": []
   },
   "outputs": [
    {
     "data": {
      "text/plain": [
       "(2919, 80)"
      ]
     },
     "execution_count": 5,
     "metadata": {},
     "output_type": "execute_result"
    }
   ],
   "source": [
    "df = cudf.concat([train,test],axis=0)\n",
    "df.shape"
   ]
  },
  {
   "cell_type": "code",
   "execution_count": 6,
   "id": "9ed46bb8",
   "metadata": {
    "execution": {
     "iopub.execute_input": "2022-02-25T15:54:01.208346Z",
     "iopub.status.busy": "2022-02-25T15:54:01.207801Z",
     "iopub.status.idle": "2022-02-25T15:54:01.272507Z",
     "shell.execute_reply": "2022-02-25T15:54:01.272055Z",
     "shell.execute_reply.started": "2022-02-24T19:15:49.145657Z"
    },
    "papermill": {
     "duration": 0.088818,
     "end_time": "2022-02-25T15:54:01.272627",
     "exception": false,
     "start_time": "2022-02-25T15:54:01.183809",
     "status": "completed"
    },
    "tags": []
   },
   "outputs": [],
   "source": [
    "# Drop columns having more than 25% missing values\n",
    "to_drop = []\n",
    "categorical_features = []\n",
    "for col in df.keys():\n",
    "    if df[col].dtype == 'object':\n",
    "        categorical_features.append(col)\n",
    "        \n",
    "    if df[col].isnull().sum()>=len(train)//4:\n",
    "        to_drop.append(col)\n",
    "\n",
    "df = df.drop(to_drop,axis=1)"
   ]
  },
  {
   "cell_type": "code",
   "execution_count": 7,
   "id": "f63e1f65",
   "metadata": {
    "execution": {
     "iopub.execute_input": "2022-02-25T15:54:01.313087Z",
     "iopub.status.busy": "2022-02-25T15:54:01.312303Z",
     "iopub.status.idle": "2022-02-25T15:54:02.549499Z",
     "shell.execute_reply": "2022-02-25T15:54:02.548997Z",
     "shell.execute_reply.started": "2022-02-24T19:15:49.22003Z"
    },
    "papermill": {
     "duration": 1.25967,
     "end_time": "2022-02-25T15:54:02.549620",
     "exception": false,
     "start_time": "2022-02-25T15:54:01.289950",
     "status": "completed"
    },
    "tags": []
   },
   "outputs": [],
   "source": [
    "for col in df.keys():\n",
    "    if df[col].isnull().sum()!=0:\n",
    "        if col in categorical_features:\n",
    "            df[col].fillna(df[col].mode()[0],inplace=True)\n",
    "        else:\n",
    "            df[col].fillna(df[col].mean(),inplace=True)"
   ]
  },
  {
   "cell_type": "code",
   "execution_count": 8,
   "id": "1eee6280",
   "metadata": {
    "execution": {
     "iopub.execute_input": "2022-02-25T15:54:02.589861Z",
     "iopub.status.busy": "2022-02-25T15:54:02.589032Z",
     "iopub.status.idle": "2022-02-25T15:54:02.615379Z",
     "shell.execute_reply": "2022-02-25T15:54:02.614858Z",
     "shell.execute_reply.started": "2022-02-24T19:15:50.544093Z"
    },
    "papermill": {
     "duration": 0.048133,
     "end_time": "2022-02-25T15:54:02.615494",
     "exception": false,
     "start_time": "2022-02-25T15:54:02.567361",
     "status": "completed"
    },
    "tags": []
   },
   "outputs": [
    {
     "data": {
      "text/plain": [
       "0"
      ]
     },
     "execution_count": 8,
     "metadata": {},
     "output_type": "execute_result"
    }
   ],
   "source": [
    "df.isnull().any().sum()"
   ]
  },
  {
   "cell_type": "code",
   "execution_count": 9,
   "id": "d5696893",
   "metadata": {
    "execution": {
     "iopub.execute_input": "2022-02-25T15:54:02.659036Z",
     "iopub.status.busy": "2022-02-25T15:54:02.658285Z",
     "iopub.status.idle": "2022-02-25T15:54:03.591510Z",
     "shell.execute_reply": "2022-02-25T15:54:03.590869Z",
     "shell.execute_reply.started": "2022-02-24T19:15:50.578879Z"
    },
    "papermill": {
     "duration": 0.958225,
     "end_time": "2022-02-25T15:54:03.591642",
     "exception": false,
     "start_time": "2022-02-25T15:54:02.633417",
     "status": "completed"
    },
    "tags": []
   },
   "outputs": [],
   "source": [
    "df = cudf.get_dummies(df)"
   ]
  },
  {
   "cell_type": "code",
   "execution_count": 10,
   "id": "80e81cac",
   "metadata": {
    "execution": {
     "iopub.execute_input": "2022-02-25T15:54:03.643348Z",
     "iopub.status.busy": "2022-02-25T15:54:03.642565Z",
     "iopub.status.idle": "2022-02-25T15:54:03.667934Z",
     "shell.execute_reply": "2022-02-25T15:54:03.667479Z",
     "shell.execute_reply.started": "2022-02-24T19:15:51.612512Z"
    },
    "papermill": {
     "duration": 0.058078,
     "end_time": "2022-02-25T15:54:03.668043",
     "exception": false,
     "start_time": "2022-02-25T15:54:03.609965",
     "status": "completed"
    },
    "tags": []
   },
   "outputs": [],
   "source": [
    "train = df.iloc[:n_train,:]\n",
    "test = df.iloc[n_test+1:,:]"
   ]
  },
  {
   "cell_type": "code",
   "execution_count": 11,
   "id": "4e819824",
   "metadata": {
    "execution": {
     "iopub.execute_input": "2022-02-25T15:54:03.708192Z",
     "iopub.status.busy": "2022-02-25T15:54:03.707538Z",
     "iopub.status.idle": "2022-02-25T15:54:03.710134Z",
     "shell.execute_reply": "2022-02-25T15:54:03.710579Z",
     "shell.execute_reply.started": "2022-02-24T19:15:51.680559Z"
    },
    "papermill": {
     "duration": 0.025168,
     "end_time": "2022-02-25T15:54:03.710727",
     "exception": false,
     "start_time": "2022-02-25T15:54:03.685559",
     "status": "completed"
    },
    "tags": []
   },
   "outputs": [
    {
     "data": {
      "text/plain": [
       "((1460, 270), (1459, 270))"
      ]
     },
     "execution_count": 11,
     "metadata": {},
     "output_type": "execute_result"
    }
   ],
   "source": [
    "train.shape,test.shape"
   ]
  },
  {
   "cell_type": "code",
   "execution_count": 12,
   "id": "b46f7044",
   "metadata": {
    "execution": {
     "iopub.execute_input": "2022-02-25T15:54:03.751433Z",
     "iopub.status.busy": "2022-02-25T15:54:03.750681Z",
     "iopub.status.idle": "2022-02-25T15:54:03.752610Z",
     "shell.execute_reply": "2022-02-25T15:54:03.752978Z",
     "shell.execute_reply.started": "2022-02-24T19:15:51.695827Z"
    },
    "papermill": {
     "duration": 0.024245,
     "end_time": "2022-02-25T15:54:03.753102",
     "exception": false,
     "start_time": "2022-02-25T15:54:03.728857",
     "status": "completed"
    },
    "tags": []
   },
   "outputs": [],
   "source": [
    "X = train"
   ]
  },
  {
   "cell_type": "code",
   "execution_count": 13,
   "id": "4f37f5c3",
   "metadata": {
    "execution": {
     "iopub.execute_input": "2022-02-25T15:54:03.793405Z",
     "iopub.status.busy": "2022-02-25T15:54:03.792745Z",
     "iopub.status.idle": "2022-02-25T15:54:04.911247Z",
     "shell.execute_reply": "2022-02-25T15:54:04.910596Z",
     "shell.execute_reply.started": "2022-02-24T19:15:51.706213Z"
    },
    "papermill": {
     "duration": 1.140209,
     "end_time": "2022-02-25T15:54:04.911384",
     "exception": false,
     "start_time": "2022-02-25T15:54:03.771175",
     "status": "completed"
    },
    "tags": []
   },
   "outputs": [],
   "source": [
    "X_train,X_validate,Y_train,Y_validate = cuml.train_test_split(X,Y,test_size=0.3,random_state=42)"
   ]
  },
  {
   "cell_type": "code",
   "execution_count": 14,
   "id": "1849b5af",
   "metadata": {
    "execution": {
     "iopub.execute_input": "2022-02-25T15:54:04.962827Z",
     "iopub.status.busy": "2022-02-25T15:54:04.961948Z",
     "iopub.status.idle": "2022-02-25T15:54:09.432895Z",
     "shell.execute_reply": "2022-02-25T15:54:09.433570Z",
     "shell.execute_reply.started": "2022-02-24T19:15:53.06575Z"
    },
    "papermill": {
     "duration": 4.502398,
     "end_time": "2022-02-25T15:54:09.433815",
     "exception": false,
     "start_time": "2022-02-25T15:54:04.931417",
     "status": "completed"
    },
    "tags": []
   },
   "outputs": [
    {
     "name": "stdout",
     "output_type": "stream",
     "text": [
      "Algorithm: svd\n",
      "R2 score: 0.8442217624049219       MSE: 920522253.7762557        MAE: 19054.56621004566\n",
      "\n",
      "Algorithm: eig\n",
      "R2 score: -1.8555127121245722       MSE: 16873734209.646118        MAE: 38892.824200913245\n",
      "\n",
      "Algorithm: svd-qr\n",
      "R2 score: 0.8494382633663469       MSE: 889697252.630137        MAE: 19203.109589041094\n",
      "\n",
      "Algorithm: svd-jacobi\n",
      "R2 score: 0.8442217624049219       MSE: 920522253.7762557        MAE: 19054.56621004566\n",
      "\n"
     ]
    }
   ],
   "source": [
    "algorithms = ['svd', 'eig', 'svd-qr', 'svd-jacobi']\n",
    "for algo in algorithms:\n",
    "    model = cuml.LinearRegression(algorithm=algo)\n",
    "    trained = model.fit(X_train,Y_train)\n",
    "    Y_predict = trained.predict(X_validate)\n",
    "    \n",
    "    mse = cuml.metrics.regression.mean_squared_error(Y_validate.astype('int64'),Y_predict.astype('int64'))\n",
    "    mae = cuml.metrics.regression.mean_absolute_error(Y_validate.astype('int64'),Y_predict.astype('int64'))\n",
    "    r2 = cuml.metrics.regression.r2_score(Y_validate.astype('float64'),Y_predict.astype('float64'))\n",
    "    \n",
    "    print(\"Algorithm: \"+algo)\n",
    "    print(\"R2 score:\",str(r2),\"      MSE:\",str(mse),\"       MAE:\",str(mae))\n",
    "    print()"
   ]
  },
  {
   "cell_type": "code",
   "execution_count": 15,
   "id": "2c178985",
   "metadata": {
    "execution": {
     "iopub.execute_input": "2022-02-25T15:54:09.510960Z",
     "iopub.status.busy": "2022-02-25T15:54:09.510107Z",
     "iopub.status.idle": "2022-02-25T15:54:09.725114Z",
     "shell.execute_reply": "2022-02-25T15:54:09.724428Z",
     "shell.execute_reply.started": "2022-02-24T19:15:57.547434Z"
    },
    "papermill": {
     "duration": 0.261142,
     "end_time": "2022-02-25T15:54:09.725324",
     "exception": false,
     "start_time": "2022-02-25T15:54:09.464182",
     "status": "completed"
    },
    "tags": []
   },
   "outputs": [],
   "source": [
    "model = cuml.LinearRegression(algorithm='svd-qr')\n",
    "trained = model.fit(X,Y)\n",
    "Y_predict = trained.predict(test)"
   ]
  },
  {
   "cell_type": "code",
   "execution_count": 16,
   "id": "b0f96f54",
   "metadata": {
    "execution": {
     "iopub.execute_input": "2022-02-25T15:54:09.794889Z",
     "iopub.status.busy": "2022-02-25T15:54:09.794098Z",
     "iopub.status.idle": "2022-02-25T15:54:09.802968Z",
     "shell.execute_reply": "2022-02-25T15:54:09.803718Z",
     "shell.execute_reply.started": "2022-02-24T19:15:57.707019Z"
    },
    "papermill": {
     "duration": 0.048618,
     "end_time": "2022-02-25T15:54:09.803901",
     "exception": false,
     "start_time": "2022-02-25T15:54:09.755283",
     "status": "completed"
    },
    "tags": []
   },
   "outputs": [
    {
     "data": {
      "text/plain": [
       "0       113102.264500\n",
       "1       163144.344321\n",
       "2       190188.427516\n",
       "3       196269.428041\n",
       "4       203270.797196\n",
       "            ...      \n",
       "1454     81770.541706\n",
       "1455     83043.579672\n",
       "1456    177436.923970\n",
       "1457    106972.740238\n",
       "1458    222976.846527\n",
       "Length: 1459, dtype: float64"
      ]
     },
     "execution_count": 16,
     "metadata": {},
     "output_type": "execute_result"
    }
   ],
   "source": [
    "Y_predict"
   ]
  },
  {
   "cell_type": "code",
   "execution_count": 17,
   "id": "d2f77ea5",
   "metadata": {
    "execution": {
     "iopub.execute_input": "2022-02-25T15:54:09.874791Z",
     "iopub.status.busy": "2022-02-25T15:54:09.874021Z",
     "iopub.status.idle": "2022-02-25T15:54:09.888411Z",
     "shell.execute_reply": "2022-02-25T15:54:09.889374Z",
     "shell.execute_reply.started": "2022-02-24T19:15:57.720891Z"
    },
    "papermill": {
     "duration": 0.05478,
     "end_time": "2022-02-25T15:54:09.889557",
     "exception": false,
     "start_time": "2022-02-25T15:54:09.834777",
     "status": "completed"
    },
    "tags": []
   },
   "outputs": [
    {
     "name": "stdout",
     "output_type": "stream",
     "text": [
      "Your submission was successfully saved!\n"
     ]
    }
   ],
   "source": [
    "output = cudf.DataFrame({'Id': test.Id, 'SalePrice': Y_predict})\n",
    "output.to_csv('submission.csv', index=False)\n",
    "print(\"Your submission was successfully saved!\")"
   ]
  },
  {
   "cell_type": "code",
   "execution_count": 18,
   "id": "dbe9fbb3",
   "metadata": {
    "execution": {
     "iopub.execute_input": "2022-02-25T15:54:09.967915Z",
     "iopub.status.busy": "2022-02-25T15:54:09.967141Z",
     "iopub.status.idle": "2022-02-25T15:54:10.032963Z",
     "shell.execute_reply": "2022-02-25T15:54:10.033962Z",
     "shell.execute_reply.started": "2022-02-24T19:15:57.737619Z"
    },
    "papermill": {
     "duration": 0.113856,
     "end_time": "2022-02-25T15:54:10.034171",
     "exception": false,
     "start_time": "2022-02-25T15:54:09.920315",
     "status": "completed"
    },
    "tags": []
   },
   "outputs": [
    {
     "data": {
      "text/html": [
       "<div>\n",
       "<style scoped>\n",
       "    .dataframe tbody tr th:only-of-type {\n",
       "        vertical-align: middle;\n",
       "    }\n",
       "\n",
       "    .dataframe tbody tr th {\n",
       "        vertical-align: top;\n",
       "    }\n",
       "\n",
       "    .dataframe thead th {\n",
       "        text-align: right;\n",
       "    }\n",
       "</style>\n",
       "<table border=\"1\" class=\"dataframe\">\n",
       "  <thead>\n",
       "    <tr style=\"text-align: right;\">\n",
       "      <th></th>\n",
       "      <th>Id</th>\n",
       "      <th>SalePrice</th>\n",
       "    </tr>\n",
       "  </thead>\n",
       "  <tbody>\n",
       "    <tr>\n",
       "      <th>0</th>\n",
       "      <td>1461</td>\n",
       "      <td>113102.264500</td>\n",
       "    </tr>\n",
       "    <tr>\n",
       "      <th>1</th>\n",
       "      <td>1462</td>\n",
       "      <td>163144.344321</td>\n",
       "    </tr>\n",
       "    <tr>\n",
       "      <th>2</th>\n",
       "      <td>1463</td>\n",
       "      <td>190188.427516</td>\n",
       "    </tr>\n",
       "    <tr>\n",
       "      <th>3</th>\n",
       "      <td>1464</td>\n",
       "      <td>196269.428041</td>\n",
       "    </tr>\n",
       "    <tr>\n",
       "      <th>4</th>\n",
       "      <td>1465</td>\n",
       "      <td>203270.797196</td>\n",
       "    </tr>\n",
       "    <tr>\n",
       "      <th>...</th>\n",
       "      <td>...</td>\n",
       "      <td>...</td>\n",
       "    </tr>\n",
       "    <tr>\n",
       "      <th>1454</th>\n",
       "      <td>2915</td>\n",
       "      <td>81770.541706</td>\n",
       "    </tr>\n",
       "    <tr>\n",
       "      <th>1455</th>\n",
       "      <td>2916</td>\n",
       "      <td>83043.579672</td>\n",
       "    </tr>\n",
       "    <tr>\n",
       "      <th>1456</th>\n",
       "      <td>2917</td>\n",
       "      <td>177436.923970</td>\n",
       "    </tr>\n",
       "    <tr>\n",
       "      <th>1457</th>\n",
       "      <td>2918</td>\n",
       "      <td>106972.740238</td>\n",
       "    </tr>\n",
       "    <tr>\n",
       "      <th>1458</th>\n",
       "      <td>2919</td>\n",
       "      <td>222976.846527</td>\n",
       "    </tr>\n",
       "  </tbody>\n",
       "</table>\n",
       "<p>1459 rows × 2 columns</p>\n",
       "</div>"
      ],
      "text/plain": [
       "        Id      SalePrice\n",
       "0     1461  113102.264500\n",
       "1     1462  163144.344321\n",
       "2     1463  190188.427516\n",
       "3     1464  196269.428041\n",
       "4     1465  203270.797196\n",
       "...    ...            ...\n",
       "1454  2915   81770.541706\n",
       "1455  2916   83043.579672\n",
       "1456  2917  177436.923970\n",
       "1457  2918  106972.740238\n",
       "1458  2919  222976.846527\n",
       "\n",
       "[1459 rows x 2 columns]"
      ]
     },
     "execution_count": 18,
     "metadata": {},
     "output_type": "execute_result"
    }
   ],
   "source": [
    "output"
   ]
  },
  {
   "cell_type": "code",
   "execution_count": null,
   "id": "8cec9506",
   "metadata": {
    "papermill": {
     "duration": 0.032211,
     "end_time": "2022-02-25T15:54:10.098967",
     "exception": false,
     "start_time": "2022-02-25T15:54:10.066756",
     "status": "completed"
    },
    "tags": []
   },
   "outputs": [],
   "source": []
  }
 ],
 "metadata": {
  "kernelspec": {
   "display_name": "Python 3",
   "language": "python",
   "name": "python3"
  },
  "language_info": {
   "codemirror_mode": {
    "name": "ipython",
    "version": 3
   },
   "file_extension": ".py",
   "mimetype": "text/x-python",
   "name": "python",
   "nbconvert_exporter": "python",
   "pygments_lexer": "ipython3",
   "version": "3.7.12"
  },
  "papermill": {
   "default_parameters": {},
   "duration": 25.744114,
   "end_time": "2022-02-25T15:54:11.545990",
   "environment_variables": {},
   "exception": null,
   "input_path": "__notebook__.ipynb",
   "output_path": "__notebook__.ipynb",
   "parameters": {},
   "start_time": "2022-02-25T15:53:45.801876",
   "version": "2.3.3"
  }
 },
 "nbformat": 4,
 "nbformat_minor": 5
}
